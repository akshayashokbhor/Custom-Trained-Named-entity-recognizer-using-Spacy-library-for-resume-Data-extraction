{
  "nbformat": 4,
  "nbformat_minor": 0,
  "metadata": {
    "colab": {
      "name": "Untitled29.ipynb",
      "provenance": []
    },
    "kernelspec": {
      "name": "python3",
      "display_name": "Python 3"
    },
    "accelerator": "GPU"
  },
  "cells": [
    {
      "cell_type": "markdown",
      "metadata": {
        "id": "eAUWP8l_ASUV"
      },
      "source": [
        "# **Resume and CV auto ML Shortlisting**"
      ]
    },
    {
      "cell_type": "code",
      "metadata": {
        "id": "IkZhWE8HuGgt"
      },
      "source": [
        "import spacy\n",
        "import pickle\n",
        "import random\n"
      ],
      "execution_count": 5,
      "outputs": []
    },
    {
      "cell_type": "code",
      "metadata": {
        "id": "eqAXIolU0nj-"
      },
      "source": [
        ""
      ],
      "execution_count": null,
      "outputs": []
    },
    {
      "cell_type": "code",
      "metadata": {
        "colab": {
          "base_uri": "https://localhost:8080/"
        },
        "id": "-va3YQV0x9tR",
        "outputId": "8e614e4f-40a2-468b-feb5-f6f4ec660068"
      },
      "source": [
        "from google.colab import drive\n",
        "drive.mount('/content/drive')"
      ],
      "execution_count": 8,
      "outputs": [
        {
          "output_type": "stream",
          "text": [
            "Mounted at /content/drive\n"
          ],
          "name": "stdout"
        }
      ]
    },
    {
      "cell_type": "code",
      "metadata": {
        "id": "2oVlsrLOuGnR"
      },
      "source": [
        "train_data = pickle.load(open('/content/drive/MyDrive/train_data.pkl', 'rb'))\n"
      ],
      "execution_count": 9,
      "outputs": []
    },
    {
      "cell_type": "code",
      "metadata": {
        "colab": {
          "base_uri": "https://localhost:8080/"
        },
        "id": "gNk4VN-YuGrN",
        "outputId": "14197177-6310-4a07-c78d-b2e5475d17cd"
      },
      "source": [
        "len(train_data)"
      ],
      "execution_count": 10,
      "outputs": [
        {
          "output_type": "execute_result",
          "data": {
            "text/plain": [
              "200"
            ]
          },
          "metadata": {
            "tags": []
          },
          "execution_count": 10
        }
      ]
    },
    {
      "cell_type": "code",
      "metadata": {
        "colab": {
          "base_uri": "https://localhost:8080/"
        },
        "id": "NxOHzy2P1LyT",
        "outputId": "8941661a-984b-4a3d-f52d-fe96000042d4"
      },
      "source": [
        "train_data[0]"
      ],
      "execution_count": 11,
      "outputs": [
        {
          "output_type": "execute_result",
          "data": {
            "text/plain": [
              "('Govardhana K Senior Software Engineer  Bengaluru, Karnataka, Karnataka - Email me on Indeed: indeed.com/r/Govardhana-K/ b2de315d95905b68  Total IT experience 5 Years 6 Months Cloud Lending Solutions INC 4 Month • Salesforce Developer Oracle 5 Years 2 Month • Core Java Developer Languages Core Java, Go Lang Oracle PL-SQL programming, Sales Force Developer with APEX.  Designations & Promotions  Willing to relocate: Anywhere  WORK EXPERIENCE  Senior Software Engineer  Cloud Lending Solutions -  Bangalore, Karnataka -  January 2018 to Present  Present  Senior Consultant  Oracle -  Bangalore, Karnataka -  November 2016 to December 2017  Staff Consultant  Oracle -  Bangalore, Karnataka -  January 2014 to October 2016  Associate Consultant  Oracle -  Bangalore, Karnataka -  November 2012 to December 2013  EDUCATION  B.E in Computer Science Engineering  Adithya Institute of Technology -  Tamil Nadu  September 2008 to June 2012  https://www.indeed.com/r/Govardhana-K/b2de315d95905b68?isid=rex-download&ikw=download-top&co=IN https://www.indeed.com/r/Govardhana-K/b2de315d95905b68?isid=rex-download&ikw=download-top&co=IN   SKILLS  APEX. (Less than 1 year), Data Structures (3 years), FLEXCUBE (5 years), Oracle (5 years), Algorithms (3 years)  LINKS  https://www.linkedin.com/in/govardhana-k-61024944/  ADDITIONAL INFORMATION  Technical Proficiency:  Languages: Core Java, Go Lang, Data Structures & Algorithms, Oracle PL-SQL programming, Sales Force with APEX. Tools: RADTool, Jdeveloper, NetBeans, Eclipse, SQL developer, PL/SQL Developer, WinSCP, Putty Web Technologies: JavaScript, XML, HTML, Webservice  Operating Systems: Linux, Windows Version control system SVN & Git-Hub Databases: Oracle Middleware: Web logic, OC4J Product FLEXCUBE: Oracle FLEXCUBE Versions 10.x, 11.x and 12.x  https://www.linkedin.com/in/govardhana-k-61024944/',\n",
              " {'entities': [(1749, 1755, 'Companies worked at'),\n",
              "   (1696, 1702, 'Companies worked at'),\n",
              "   (1417, 1423, 'Companies worked at'),\n",
              "   (1356, 1793, 'Skills'),\n",
              "   (1209, 1215, 'Companies worked at'),\n",
              "   (1136, 1248, 'Skills'),\n",
              "   (928, 932, 'Graduation Year'),\n",
              "   (858, 889, 'College Name'),\n",
              "   (821, 856, 'Degree'),\n",
              "   (787, 791, 'Graduation Year'),\n",
              "   (744, 750, 'Companies worked at'),\n",
              "   (722, 742, 'Designation'),\n",
              "   (658, 664, 'Companies worked at'),\n",
              "   (640, 656, 'Designation'),\n",
              "   (574, 580, 'Companies worked at'),\n",
              "   (555, 573, 'Designation'),\n",
              "   (470, 493, 'Companies worked at'),\n",
              "   (444, 469, 'Designation'),\n",
              "   (308, 314, 'Companies worked at'),\n",
              "   (234, 240, 'Companies worked at'),\n",
              "   (175, 198, 'Companies worked at'),\n",
              "   (93, 137, 'Email Address'),\n",
              "   (39, 48, 'Location'),\n",
              "   (13, 38, 'Designation'),\n",
              "   (0, 12, 'Name')]})"
            ]
          },
          "metadata": {
            "tags": []
          },
          "execution_count": 11
        }
      ]
    },
    {
      "cell_type": "code",
      "metadata": {
        "id": "2PTboags2mhA"
      },
      "source": [
        "for _, annotation in train_data:\n",
        "  for ent in annotation['entities']:\n",
        "    print(ent[2])"
      ],
      "execution_count": null,
      "outputs": []
    },
    {
      "cell_type": "markdown",
      "metadata": {
        "id": "UWdMMh3HAfDl"
      },
      "source": [
        "start with blank spacy model"
      ]
    },
    {
      "cell_type": "code",
      "metadata": {
        "id": "IAtQ-YO42OY4"
      },
      "source": [
        "nlp = spacy.blank('en')\n"
      ],
      "execution_count": 13,
      "outputs": []
    },
    {
      "cell_type": "markdown",
      "metadata": {
        "id": "EUTFteSSAmIl"
      },
      "source": [
        "Train with our custom train_data containing resume with their annotations"
      ]
    },
    {
      "cell_type": "markdown",
      "metadata": {
        "id": "tp8kVFpgAyiA"
      },
      "source": [
        "and update that in our nlp model"
      ]
    },
    {
      "cell_type": "code",
      "metadata": {
        "id": "7dvY2yhp2b2F"
      },
      "source": [
        "\n",
        "def train_model(train_data):\n",
        "    if 'ner' not in nlp.pipe_names:\n",
        "        ner = nlp.create_pipe('ner')\n",
        "        nlp.add_pipe(ner, last = True)\n",
        "    \n",
        "    for _, annotation in train_data:\n",
        "        for ent in annotation['entities']:\n",
        "            ner.add_label(ent[2])\n",
        "            \n",
        "    \n",
        "    other_pipes = [pipe for pipe in nlp.pipe_names if pipe != 'ner']\n",
        "    with nlp.disable_pipes(*other_pipes):  # only train NER\n",
        "        optimizer = nlp.begin_training()\n",
        "        for itn in range(30):\n",
        "            print(\"Statring iteration \" + str(itn))\n",
        "            random.shuffle(train_data)\n",
        "            losses = {}\n",
        "            index = 0\n",
        "            for text, annotations in train_data:\n",
        "                try:\n",
        "                    nlp.update(\n",
        "                        [text],  # batch of texts\n",
        "                        [annotations],  # batch of annotations\n",
        "                        drop=0.2,  # dropout - make it harder to memorise data\n",
        "                        sgd=optimizer,  # callable to update weights\n",
        "                        losses=losses)\n",
        "                except Exception as e:\n",
        "                    pass\n",
        "                \n",
        "            print(losses)"
      ],
      "execution_count": 14,
      "outputs": []
    },
    {
      "cell_type": "code",
      "metadata": {
        "colab": {
          "base_uri": "https://localhost:8080/"
        },
        "id": "nAkzYg7R6PhG",
        "outputId": "9e4e77b6-1953-4b14-9a96-8d05668e29ef"
      },
      "source": [
        "train_model(train_data)\n"
      ],
      "execution_count": 15,
      "outputs": [
        {
          "output_type": "stream",
          "text": [
            "Statring iteration 0\n",
            "{'ner': 11613.31604754122}\n",
            "Statring iteration 1\n",
            "{'ner': 9848.162704075788}\n",
            "Statring iteration 2\n",
            "{'ner': 8045.146713959911}\n",
            "Statring iteration 3\n",
            "{'ner': 7753.9564107664655}\n",
            "Statring iteration 4\n",
            "{'ner': 6978.712976786129}\n",
            "Statring iteration 5\n",
            "{'ner': 9830.201889201124}\n",
            "Statring iteration 6\n",
            "{'ner': 5281.667956368961}\n",
            "Statring iteration 7\n",
            "{'ner': 6468.824763420379}\n",
            "Statring iteration 8\n",
            "{'ner': 4942.961672833037}\n",
            "Statring iteration 9\n",
            "{'ner': 4907.074120186795}\n",
            "Statring iteration 10\n",
            "{'ner': 4615.2886884837935}\n",
            "Statring iteration 11\n",
            "{'ner': 5140.3510118519725}\n",
            "Statring iteration 12\n",
            "{'ner': 4546.177023835735}\n",
            "Statring iteration 13\n",
            "{'ner': 4209.334645818486}\n",
            "Statring iteration 14\n",
            "{'ner': 4109.077401977333}\n",
            "Statring iteration 15\n",
            "{'ner': 4742.282748629759}\n",
            "Statring iteration 16\n",
            "{'ner': 4281.842551840907}\n",
            "Statring iteration 17\n",
            "{'ner': 3067.491373996399}\n",
            "Statring iteration 18\n",
            "{'ner': 3865.809773115568}\n",
            "Statring iteration 19\n",
            "{'ner': 2852.6774675732895}\n",
            "Statring iteration 20\n",
            "{'ner': 3357.2113748218485}\n",
            "Statring iteration 21\n",
            "{'ner': 3063.4770941061847}\n",
            "Statring iteration 22\n",
            "{'ner': 2635.2609347363223}\n",
            "Statring iteration 23\n",
            "{'ner': 2919.7585901492116}\n",
            "Statring iteration 24\n",
            "{'ner': 2787.4739188115373}\n",
            "Statring iteration 25\n",
            "{'ner': 2436.839488612663}\n",
            "Statring iteration 26\n",
            "{'ner': 2191.1653619119884}\n",
            "Statring iteration 27\n",
            "{'ner': 2378.5746477403345}\n",
            "Statring iteration 28\n",
            "{'ner': 2867.1122979423917}\n",
            "Statring iteration 29\n",
            "{'ner': 2466.015223929856}\n"
          ],
          "name": "stdout"
        }
      ]
    },
    {
      "cell_type": "markdown",
      "metadata": {
        "id": "JecXFtKPA51g"
      },
      "source": [
        "save model to google drive"
      ]
    },
    {
      "cell_type": "code",
      "metadata": {
        "id": "bu6Gl1Xc9IPO"
      },
      "source": [
        "nlp.to_disk('/content/drive/MyDrive/NLP NER model/nlp_model')\n"
      ],
      "execution_count": 17,
      "outputs": []
    },
    {
      "cell_type": "markdown",
      "metadata": {
        "id": "djDGdogWA9j4"
      },
      "source": [
        "load the model using spacy library"
      ]
    },
    {
      "cell_type": "code",
      "metadata": {
        "id": "EXAobzlh9qI1"
      },
      "source": [
        "loaded_nlp_model = spacy.load('/content/drive/MyDrive/NLP NER model/nlp_model')\n"
      ],
      "execution_count": 18,
      "outputs": []
    },
    {
      "cell_type": "code",
      "metadata": {
        "colab": {
          "base_uri": "https://localhost:8080/",
          "height": 221
        },
        "id": "vhEIHwxv-LJI",
        "outputId": "8e7e282c-e6e2-426d-c03f-1612f9a9346d"
      },
      "source": [
        "train_data[0][0]\n"
      ],
      "execution_count": 19,
      "outputs": [
        {
          "output_type": "execute_result",
          "data": {
            "application/vnd.google.colaboratory.intrinsic+json": {
              "type": "string"
            },
            "text/plain": [
              "'Saurabh Saurabh Bengaluru, Karnataka - Email me on Indeed: indeed.com/r/Saurabh- Saurabh/87e6b26903460061  Willing to relocate: Anywhere  WORK EXPERIENCE  Developer Support Engineer  Microsoft iGTSC -  Bangalore Urban, Karnataka -  August 2007 to Present  EDUCATION  Certificate of Achievement  Microsoft Virtual Academy  December 2016  SKILLS  C, C++, Data Structure, Java (1 year)  ADDITIONAL INFORMATION  ➢ Managerial Skills: Organizer and volunteer at many inter and intra college events, symposia etc. in college. ➢ Co-curricular: - 1. Selected by College (TISL) to train the first-year engineering students under the Finishing School Program (January 2017) 2. District level soccer and cricket player. 3. Honored at State Level Singing competition; Performed in college.  ➢ Leadership Skills: Effective leadership; associated with many student led organizations; Student leader for Oxygen, A movement for and by Students (2007 &amp; 2009)  DECLARATION  The abovementioned is true to the best of my knowledge, information and personal belief. Place: Bangalore.  https://www.indeed.com/r/Saurabh-Saurabh/87e6b26903460061?isid=rex-download&ikw=download-top&co=IN https://www.indeed.com/r/Saurabh-Saurabh/87e6b26903460061?isid=rex-download&ikw=download-top&co=IN'"
            ]
          },
          "metadata": {
            "tags": []
          },
          "execution_count": 19
        }
      ]
    },
    {
      "cell_type": "markdown",
      "metadata": {
        "id": "jt3tvZ8mBDT4"
      },
      "source": [
        "performing testing on our earlier seen data"
      ]
    },
    {
      "cell_type": "code",
      "metadata": {
        "colab": {
          "base_uri": "https://localhost:8080/"
        },
        "id": "wtPPAmQi-TQc",
        "outputId": "7b2bf1b4-3553-46ac-a1f1-3bfe1d94123a"
      },
      "source": [
        "doc = loaded_nlp_model(train_data[0][0])\n",
        "for ent in doc.ents:\n",
        "    print(f'{ent.label_.upper():{30}}- {ent.text}')"
      ],
      "execution_count": 21,
      "outputs": [
        {
          "output_type": "stream",
          "text": [
            "NAME                          - Saurabh Saurabh\n",
            "LOCATION                      - Bengaluru\n",
            "EMAIL ADDRESS                 - indeed.com/r/Saurabh- Saurabh/87e6b26903460061\n",
            "DESIGNATION                   - Developer Support Engineer\n",
            "DEGREE                        - Certificate of Achievement\n",
            "GRADUATION YEAR               - 2016\n",
            "SKILLS                        - C, C++, Data Structure, Java (1 year)  ADDITIONAL INFORMATION  ➢ Managerial Skills: Organizer and volunteer at many inter and intra college events, symposia etc. in college. ➢ Co-curricular: - 1. Selected by College (TISL) to train the first-year engineering students under the Finishing School Program (January 2017) 2. District level soccer and cricket player. 3. Honored at State Level Singing competition; Performed in college.  ➢ Leadership Skills: Effective leadership; associated with many student led organizations; Student leader for Oxygen, A movement for and by Students (2007 &amp; 2009)  DECLARATION  The abovementioned is true to the best of my knowledge, information and personal belief. Place: Bangalore.  https://www.indeed.com/r/Saurabh-Saurabh/87e6b26903460061?isid=rex-download&ikw=download-top&co=IN https://www.indeed.com/r/Saurabh-Saurabh/87e6b26903460061?isid=rex-download&ikw=download-top&co=IN\n"
          ],
          "name": "stdout"
        }
      ]
    },
    {
      "cell_type": "markdown",
      "metadata": {
        "id": "hTsQ96FuBNe7"
      },
      "source": [
        "Testing with unseen data"
      ]
    },
    {
      "cell_type": "code",
      "metadata": {
        "colab": {
          "base_uri": "https://localhost:8080/"
        },
        "id": "nsYcoIcK_Z3D",
        "outputId": "3d6f8cd5-effa-4b56-b362-893dc0b51a2f"
      },
      "source": [
        "!pip install PyMuPDF"
      ],
      "execution_count": 23,
      "outputs": [
        {
          "output_type": "stream",
          "text": [
            "Collecting PyMuPDF\n",
            "\u001b[?25l  Downloading https://files.pythonhosted.org/packages/75/ba/e3452b39855aa59d06fc149e1f51a8b14108b682b9f58f6556647ef56b2d/PyMuPDF-1.18.4-cp36-cp36m-manylinux2010_x86_64.whl (6.3MB)\n",
            "\u001b[K     |████████████████████████████████| 6.3MB 12.6MB/s \n",
            "\u001b[?25hInstalling collected packages: PyMuPDF\n",
            "Successfully installed PyMuPDF-1.18.4\n"
          ],
          "name": "stdout"
        }
      ]
    },
    {
      "cell_type": "code",
      "metadata": {
        "colab": {
          "base_uri": "https://localhost:8080/"
        },
        "id": "EXKO5UFm_Qji",
        "outputId": "ed258ccd-e1c1-4323-a22e-834768867ad0"
      },
      "source": [
        "import sys, fitz\n",
        "fname = '/content/drive/MyDrive/Smith Resume.pdf'\n",
        "doc = fitz.open(fname)\n",
        "doc"
      ],
      "execution_count": 26,
      "outputs": [
        {
          "output_type": "execute_result",
          "data": {
            "text/plain": [
              "Document('/content/drive/MyDrive/Smith Resume.pdf')"
            ]
          },
          "metadata": {
            "tags": []
          },
          "execution_count": 26
        }
      ]
    },
    {
      "cell_type": "code",
      "metadata": {
        "colab": {
          "base_uri": "https://localhost:8080/"
        },
        "id": "ceb1DmF6_O6v",
        "outputId": "0a3bd583-1f21-4af9-f069-4893bbee70c1"
      },
      "source": [
        "\n",
        "text = \"\"\n",
        "for page in doc:\n",
        "    text = text + str(page.getText())\n",
        "\n",
        "tx = \" \".join(text.split('\\n'))\n",
        "print(tx)"
      ],
      "execution_count": 27,
      "outputs": [
        {
          "output_type": "stream",
          "text": [
            "Michael Smith  BI / Big Data/ Azure  Manchester, UK- Email me on Indeed: indeed.com/r/falicent/140749dace5dc26f    10+ years of Experience in Designing, Development, Administration, Analysis,  Management  inthe  Business  Intelligence  Data  warehousing,  Client  Server  Technologies, Web-based Applications, cloud solutions and Databases.  Data warehouse: Data analysis, star/ snow flake schema data modeling and design  specific todata warehousing and business intelligence environment.  Database: Experience in database designing, scalability, back-up and recovery,  writing andoptimizing SQL code and Stored Procedures, creating functions, views,  triggers and indexes.   Cloud platform: Worked on Microsoft Azure cloud services like Document DB, SQL  Azure, StreamAnalytics, Event hub, Power BI, Web Job, Web App, Power BI, Azure  data lake analytics(U-SQL).  Big Data: Worked Azure data lake store/analytics for big data processing and Azure  data factoryto schedule U-SQL jobs. Designed and developed end to end big data  solution for data insights.     Willing to relocate: Anywhere  WORK EXPERIENCESoftware Engineer  Microsoft - Manchester, UK.  December 2015 to Present  1. Microsoft Rewards Live dashboards:  Description: - Microsoft rewards is loyalty program that rewards Users for  browsing and shopping online. Microsoft Rewards members can earn points when  searching with Bing, browsing with Microsoft Edge and making purchases at the  Xbox Store, the Windows Store and the Microsoft Store. Plus, user can pick up  bonus points for taking daily quizzes and tours on the Microsoft rewards website.  Rewards live dashboards gives a live picture of usage world-wide and by markets  like US, Canada, Australia, new user registration count, top/bottom performing  rewards offers, orders stats and weekly trends of user activities, orders and new  user registrations. the PBI tiles gets refreshed in different frequencies starting  from 5 seconds to 30 minutes.  Technology/Tools used  Event hub, stream analytics and Power BI.  Responsibilities  Created stream analytics jobs to process event hub data  Created Power BI live dashboard to show live usage traffic, weekly trends, cards,  charts to showtop/bottom 10 offers and usage metrics.  2. Microsoft Rewards Data Insights:  Description: - Microsoft rewards is loyalty program that rewards Users for  browsing and shopping online. Microsoft Rewards members can earn points when  searching with Bing, browsing with Microsoft Edge and making purchases at the  Xbox Store, the Windows Store and the Microsoft Store. Plus, user can pick up  bonus points for taking daily quizzes and tours on the Microsoft rewards website.  Rewards data insights is data analytics and reporting platform, processes 20  million users daily activities and redemption across different markets like US,  Canada, Australia.  Technology/Tools used  Cosmos (Microsoft big-data platform), c#, X-flow job monitoring, Power BI.  Responsibilities  Created big data scripts in cosmos  C# data extractors, processors and reducers for data transformation  Power BI dashboards  3. End to end tracking Tool:  Description: - This is real-time Tracking tool to track different business  transactions like order, order response, functional acknowledgement, invoice  flowing inside ICOE. It gives flexibility to customers to track their transactions  and appropriate error information in-case of any failure. Based on resource based  access control the tool gives flexibility to end user to perform different actions  like view transactions, search based on different filter criteria and view and  download actual message payload. End to end tracking tool stitches all the  business transaction like order to cash flow and connects different hops inside  ICOE like gateway, routing server, Processing server. It also connects different  systems like ICOE, partner end point and SAP.  Technology/Tools used  Azure Document db, Azure web job and Web APP, RBAC, Angular JS.  Responsibilities  Document dB stored procedures.  Web job to process event hub data and populate Document db• Web App API.  Stream analytics job to transform data  Power BI reports  4. Biztrack Tracking Tool:  Description: - This is real-time Tracking tool to track different business  transactions like order, order response, functional acknowledgement, invoice  flowing inside ICOE. It gives flexibility to customers to track their transactions  and appropriate error information in-case of any failure. Based on resource based  access control the tool gives flexibility to end user to perform different actions  like view transactions, search based on different filter criteria and view and  download actual message payload.  Technology/Tools used  SQL server 2014, SSIS, .net API, Angular JS.  Responsibilities  ETL solution to transform business transactions data stored in Biztalk tables.  SQL azure tables, stored procedures, User defined functions.  Performance tuning.  Web API enhancements.    EDUCATION  The University of Manchester - UK  2007    SKILLS  problem solving (Less than 1 year), project lifecycle (Less than 1 year), project  manager (Less than 1 year), technical assistance. (Less than 1 year)  ADDITIONAL INFORMATION  Professional Skills  Excellent analytical, problem solving, communication, knowledge transfer and  interpersonalskills with ability to interact with individuals at all the levels  Quick learner and maintains cordial relationship with project manager and team  members andgood performer both in team and independent job environments  Positive attitude towards superiors &amp; peers  Supervised junior developers throughout project lifecycle and provided technical  assistance.  \n"
          ],
          "name": "stdout"
        }
      ]
    },
    {
      "cell_type": "markdown",
      "metadata": {
        "id": "6g3twlH9BWjN"
      },
      "source": [
        "# **RESULT**"
      ]
    },
    {
      "cell_type": "code",
      "metadata": {
        "colab": {
          "base_uri": "https://localhost:8080/"
        },
        "id": "KJmv7zbm_4TR",
        "outputId": "c321d4d9-8f85-411f-de82-6a79d2112cd4"
      },
      "source": [
        "doc = loaded_nlp_model(tx)\n",
        "for ent in doc.ents:\n",
        "    print(f'{ent.label_.upper():{30}}- {ent.text}')"
      ],
      "execution_count": 28,
      "outputs": [
        {
          "output_type": "stream",
          "text": [
            "NAME                          - Michael Smith\n",
            "LOCATION                      - Manchester\n",
            "EMAIL ADDRESS                 - indeed.com/r/falicent/140749dace5dc26f\n",
            "COMPANIES WORKED AT           - Microsoft\n",
            "COMPANIES WORKED AT           - Microsoft\n",
            "COMPANIES WORKED AT           - Microsoft\n",
            "COMPANIES WORKED AT           - Microsoft\n",
            "COMPANIES WORKED AT           - Microsoft\n",
            "COMPANIES WORKED AT           - Microsoft\n",
            "COMPANIES WORKED AT           - Microsoft\n",
            "COMPANIES WORKED AT           - Microsoft\n",
            "COMPANIES WORKED AT           - Microsoft\n",
            "COMPANIES WORKED AT           - Microsoft\n",
            "COMPANIES WORKED AT           - Microsoft\n",
            "COMPANIES WORKED AT           - Microsoft\n",
            "COMPANIES WORKED AT           - Microsoft\n",
            "COMPANIES WORKED AT           - Microsoft\n",
            "COMPANIES WORKED AT           - Microsoft\n",
            "COLLEGE NAME                  - The University of Manchester - UK\n",
            "SKILLS                        - problem solving (Less than 1 year), project lifecycle (Less than 1 year), project  manager (Less than 1 year), technical assistance. (Less than 1 year)  ADDITIONAL INFORMATION  Professional Skills  Excellent analytical, problem solving, communication, knowledge transfer and  interpersonalskills with ability to interact with individuals at all the levels  Quick learner and maintains cordial relationship with project manager and team  members andgood performer both in team and independent job environments  Positive attitude towards superiors &amp; peers  Supervised junior developers throughout project lifecycle and provided technical  assistance.\n"
          ],
          "name": "stdout"
        }
      ]
    }
  ]
}